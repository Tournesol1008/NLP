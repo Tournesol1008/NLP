{
  "nbformat": 4,
  "nbformat_minor": 0,
  "metadata": {
    "colab": {
      "name": "NLP - Hotel review.ipynb",
      "provenance": [],
      "include_colab_link": true
    },
    "kernelspec": {
      "name": "python3",
      "display_name": "Python 3"
    },
    "language_info": {
      "name": "python"
    }
  },
  "cells": [
    {
      "cell_type": "markdown",
      "metadata": {
        "id": "view-in-github",
        "colab_type": "text"
      },
      "source": [
        "<a href=\"https://colab.research.google.com/github/Tournesol1008/NLP/blob/main/NLP_Hotel_review.ipynb\" target=\"_parent\"><img src=\"https://colab.research.google.com/assets/colab-badge.svg\" alt=\"Open In Colab\"/></a>"
      ]
    },
    {
      "cell_type": "markdown",
      "metadata": {
        "id": "UY8J3puxC1je"
      },
      "source": [
        "# Processing Text with the Natural Language Toolkit (NLTK)"
      ]
    },
    {
      "cell_type": "markdown",
      "metadata": {
        "id": "0dtG905N9pH4"
      },
      "source": [
        "## Load the appropriate libraries.\n",
        "\n",
        "We'll scrape the novel from the website Project Gutenberg using the Python package *requests*. Then we'll extract words from this web data using BeautifulSoup. Finally, we'll dive into analyzing the distribution of words using the Natural Language ToolKit (NLTK)."
      ]
    },
    {
      "cell_type": "code",
      "metadata": {
        "id": "FLx-xmQTw04h",
        "colab": {
          "base_uri": "https://localhost:8080/"
        },
        "outputId": "7b347135-e2f1-40dd-c852-697393d8e72b"
      },
      "source": [
        "# Load the appropriate libraries.\n",
        "import nltk\n",
        "import requests\n",
        "from bs4 import BeautifulSoup\n",
        "\n",
        "# Download packages in the NLTK.\n",
        "nltk.download(['stopwords',\n",
        "               'wordnet',\n",
        "               'averaged_perceptron_tagger',\n",
        "               'universal_tagset',\n",
        "               'tagsets'])"
      ],
      "execution_count": 14,
      "outputs": [
        {
          "output_type": "stream",
          "name": "stdout",
          "text": [
            "[nltk_data] Downloading package stopwords to /root/nltk_data...\n",
            "[nltk_data]   Package stopwords is already up-to-date!\n",
            "[nltk_data] Downloading package wordnet to /root/nltk_data...\n",
            "[nltk_data]   Package wordnet is already up-to-date!\n",
            "[nltk_data] Downloading package averaged_perceptron_tagger to\n",
            "[nltk_data]     /root/nltk_data...\n",
            "[nltk_data]   Package averaged_perceptron_tagger is already up-to-\n",
            "[nltk_data]       date!\n",
            "[nltk_data] Downloading package universal_tagset to /root/nltk_data...\n",
            "[nltk_data]   Package universal_tagset is already up-to-date!\n",
            "[nltk_data] Downloading package tagsets to /root/nltk_data...\n",
            "[nltk_data]   Package tagsets is already up-to-date!\n"
          ]
        },
        {
          "output_type": "execute_result",
          "data": {
            "text/plain": [
              "True"
            ]
          },
          "metadata": {},
          "execution_count": 14
        }
      ]
    },
    {
      "cell_type": "markdown",
      "metadata": {
        "id": "eY9ox7T_24G3"
      },
      "source": [
        "## Request the HTML file.\n",
        "\n",
        "To fetch the HTML file with a Tale of Two Cities, we're going to use the request package to make a GET request for the website, which means we're getting data from it. This is what you're doing through a browser when visiting a webpage, but now we're getting the requested page using Python instead."
      ]
    },
    {
      "cell_type": "code",
      "metadata": {
        "id": "v09aXFw2xCvy",
        "colab": {
          "base_uri": "https://localhost:8080/"
        },
        "outputId": "1c61dea5-05ed-4daa-85c1-673200f032e4"
      },
      "source": [
        "# Get the \"Weird Tales\" HTML.\n",
        "r = requests.get('https://www.gutenberg.org/files/67702/67702-h/67702-h.htm')\n",
        "\n",
        "# Set the correct text encoding of the HTML page.\n",
        "r.encoding = 'utf-8'\n",
        "\n",
        "# Extract the HTML from the request object.\n",
        "html = r.text\n",
        "\n",
        "# Print a selection of characters in the HTML.\n",
        "print(html[0:406])"
      ],
      "execution_count": 15,
      "outputs": [
        {
          "output_type": "stream",
          "name": "stdout",
          "text": [
            "<!DOCTYPE html PUBLIC \"-//W3C//DTD XHTML 1.0 Strict//EN\"\r\n",
            "    \"http://www.w3.org/TR/xhtml1/DTD/xhtml1-strict.dtd\">\r\n",
            "<html xmlns=\"http://www.w3.org/1999/xhtml\" xml:lang=\"en\" lang=\"en\">\r\n",
            "  <head>\r\n",
            "    <meta http-equiv=\"Content-Type\" content=\"text/html;charset=utf-8\" />\r\n",
            "    <meta http-equiv=\"Content-Style-Type\" content=\"text/css\" />\r\n",
            "    <title>\r\n",
            "      The Project Gutenberg eBook of Crashing Suns, by Edmo\n"
          ]
        }
      ]
    },
    {
      "cell_type": "markdown",
      "metadata": {
        "id": "XYJFraEu59k6"
      },
      "source": [
        "## Get text from the HTML.\n",
        "\n",
        "This HTML is not quite what we want. However, it does contain what we want: the text of a Tale of Two Cities. What we need to do now is wrangle this HTML to extract the text of the novel. For this we'll use the package BeautifulSoup.\n",
        "\n",
        "Firstly, a word on the name of the package: In web development, the term \"tag soup\" refers to structurally or syntactically incorrect HTML code written for a web page. What Beautiful Soup does best is to make tag soup beautiful again and to extract information from it with ease! In fact, the main object created and queried when using this package is called BeautifulSoup."
      ]
    },
    {
      "cell_type": "code",
      "metadata": {
        "id": "0NY_SxtbxbJC",
        "colab": {
          "base_uri": "https://localhost:8080/"
        },
        "outputId": "253cb0df-b9af-4ed3-c527-04ad90751c04"
      },
      "source": [
        "# Create a BeautifulSoup object from the HTML.\n",
        "soup = BeautifulSoup(html)\n",
        "\n",
        "# Get the text out of the soup.\n",
        "text = soup.get_text()\n",
        "\n",
        "# Printing out some of the text characters.\n",
        "# print(text[0:500])\n",
        "print(text[33000:33700])"
      ],
      "execution_count": 16,
      "outputs": [
        {
          "output_type": "stream",
          "name": "stdout",
          "text": [
            "but holes in the ether are too much for me.\"\n",
            "Leaving him to his watch over the ship's flight, I descended to the\r\n",
            "cruiser's interior, where the engineers were still discussing with Hal\r\n",
            "Kur the experience through which we had just passed. In a few words\r\n",
            "I explained to them Sarto Sen's theory, and they went back to their\r\n",
            "posts with awed faces. Passing into the ship's living-quarters myself,\r\n",
            "I threw myself on a bunk there and strove to sleep. Sleep came quickly\r\n",
            "enough, induced by the generators' soothing drone, but with it came\r\n",
            "torturing nightmares in which I seemed to move blindly onward through\r\n",
            "endless realms of darkness, searching in vain for an outlet into the\r\n",
            "light of day.\n",
            "\n",
            "When I \n"
          ]
        }
      ]
    },
    {
      "cell_type": "markdown",
      "metadata": {
        "id": "AQagVAQb6ifR"
      },
      "source": [
        " ## Tokenize the text.\n",
        " \n",
        "We'll now tokenize the text, that is, remove everything that isn't a word (whitespace, punctuation, etc.) and then split the text into a list of words."
      ]
    },
    {
      "cell_type": "markdown",
      "metadata": {
        "id": "Ic2hNMUzxCmY"
      },
      "source": [
        "*A NOTE ABOUT REGULAR EXPRESSIONS*\n",
        "\n",
        "To split off the parts off the text that are separated by whitespaces, we will use regular expressions. A regular expression, or regex for short, is a sequence of characters that define a search pattern. They are notoriously confusing.  The '\\w' is a special expression that will find word characters.  The '+' tells you that the previous character in the regex can appear as many times as you want in strings that you're trying to match."
      ]
    },
    {
      "cell_type": "code",
      "metadata": {
        "id": "Y7akJ237yFio",
        "colab": {
          "base_uri": "https://localhost:8080/"
        },
        "outputId": "a061e57d-4530-40df-faac-f01a705dd3b6"
      },
      "source": [
        "# Create a tokenizer.\n",
        "tokenizer = nltk.tokenize.RegexpTokenizer('\\w+')\n",
        "\n",
        "# Tokenize the text.\n",
        "tokens = tokenizer.tokenize(text)\n",
        "\n",
        "# Print out the first 8 words (tokens).\n",
        "print(tokens[0:8])"
      ],
      "execution_count": 17,
      "outputs": [
        {
          "output_type": "stream",
          "name": "stdout",
          "text": [
            "['The', 'Project', 'Gutenberg', 'eBook', 'of', 'Crashing', 'Suns', 'by']\n"
          ]
        }
      ]
    },
    {
      "cell_type": "markdown",
      "metadata": {
        "id": "IzVcZzzH7kIZ"
      },
      "source": [
        "## Make the words lowercase.\n",
        "\n",
        "Now, we want to ensure that the same words -- whether capitalized or not -- are treating as the same word (e.g. tale or Tale)."
      ]
    },
    {
      "cell_type": "code",
      "metadata": {
        "id": "Dc-F78qZyw1T",
        "colab": {
          "base_uri": "https://localhost:8080/"
        },
        "outputId": "2fa1d79a-b657-4895-9725-4b2ed4196e72"
      },
      "source": [
        "# Create a new list to hold the lowercased words.\n",
        "lower_words = []\n",
        "\n",
        "# Loop through the tokens and make them lower case.\n",
        "for word in tokens:\n",
        "    lower_words.append(word.lower())\n",
        "\n",
        "# Printing out the first 8 words / tokens \n",
        "print(lower_words[0:8])"
      ],
      "execution_count": 18,
      "outputs": [
        {
          "output_type": "stream",
          "name": "stdout",
          "text": [
            "['the', 'project', 'gutenberg', 'ebook', 'of', 'crashing', 'suns', 'by']\n"
          ]
        }
      ]
    },
    {
      "cell_type": "markdown",
      "metadata": {
        "id": "cdQjmNaX77Z3"
      },
      "source": [
        "## Load in stop words.\n",
        "\n",
        "It is common practice to remove words that appear a lot in the English language such as 'the', 'of', and 'a' because they aren't very interesting. These are known as stop words. The package NLTK includes a good list of stop words in English that we can use."
      ]
    },
    {
      "cell_type": "code",
      "metadata": {
        "id": "VZy6nODLy1rJ",
        "colab": {
          "base_uri": "https://localhost:8080/"
        },
        "outputId": "046992d6-f8ed-4187-d539-e08a2148d9e5"
      },
      "source": [
        "# Get the English stop words from NLTK.\n",
        "stop_words = nltk.corpus.stopwords.words('english')\n",
        "\n",
        "# Print out the first eight stop words.\n",
        "print(stop_words[0:8])"
      ],
      "execution_count": 19,
      "outputs": [
        {
          "output_type": "stream",
          "name": "stdout",
          "text": [
            "['i', 'me', 'my', 'myself', 'we', 'our', 'ours', 'ourselves']\n"
          ]
        }
      ]
    },
    {
      "cell_type": "markdown",
      "metadata": {
        "id": "_20QUNMp8If4"
      },
      "source": [
        "## Remove the stop words."
      ]
    },
    {
      "cell_type": "code",
      "metadata": {
        "id": "B9beAoj8y-by",
        "colab": {
          "base_uri": "https://localhost:8080/"
        },
        "outputId": "f2b7bf42-e849-4687-8bae-f5d55e86023e"
      },
      "source": [
        "# Create a new list to hold the book without stop words.\n",
        "filtered_words = []\n",
        "\n",
        "# Append to \"filtered_words\" all words that are in \"lower_words\" but not stop words.\n",
        "for word in lower_words:\n",
        "    if word not in stop_words:\n",
        "        filtered_words.append(word)\n",
        "\n",
        "# Print the first 5 filtered words to check that stop words have been removed.\n",
        "print(filtered_words[0:5])"
      ],
      "execution_count": 20,
      "outputs": [
        {
          "output_type": "stream",
          "name": "stdout",
          "text": [
            "['project', 'gutenberg', 'ebook', 'crashing', 'suns']\n"
          ]
        }
      ]
    },
    {
      "cell_type": "markdown",
      "metadata": {
        "id": "t5TeA7w81xBd"
      },
      "source": [
        "## Lexicon Normalization\n",
        "\n",
        "Lexicon normalization considers another type of noise in the text. For example, connection, connected, connecting would all reduce to a common word, \"connect\". It reduces derivatives of a word to a common root word.\n",
        "\n",
        "#### Lemmatization\n",
        "\n",
        "Lemmatization reduces words to their base word, which are linguistically correct lemmas. It uses vocabulary and morphological analysis. For example, The word \"better\" has \"good\" as its lemma."
      ]
    },
    {
      "cell_type": "code",
      "metadata": {
        "id": "W27K4-UZ1yvF",
        "colab": {
          "base_uri": "https://localhost:8080/"
        },
        "outputId": "0f6dc89c-c838-4dde-9796-4f73a686dc7d"
      },
      "source": [
        "# Import the lemmatizer library.\n",
        "from nltk.stem import WordNetLemmatizer\n",
        "\n",
        "# Initialize the lemmatizer.\n",
        "lemmatizer = WordNetLemmatizer()\n",
        "\n",
        "# Create a new list to hold the lemmed words.\n",
        "lemmed_words = []\n",
        "\n",
        "# Lemmatize each word and store it in our lemmed_words variable.\n",
        "for word in filtered_words:\n",
        "  lemmed_words.append(lemmatizer.lemmatize(word))\n",
        "\n",
        "# Print the first 8 lemmatized words.\n",
        "print(lemmed_words[0:8])"
      ],
      "execution_count": 21,
      "outputs": [
        {
          "output_type": "stream",
          "name": "stdout",
          "text": [
            "['project', 'gutenberg', 'ebook', 'crashing', 'sun', 'edmond', 'hamilton', 'body']\n"
          ]
        }
      ]
    },
    {
      "cell_type": "markdown",
      "metadata": {
        "id": "UkF6SlhA7TiG"
      },
      "source": [
        "## Tag \"parts of speech (POS)\".\n",
        "\n",
        "In English the main parts of speech are noun, pronoun, adjective, determiner, verb, adverb, preposition, conjunction, and interjection.\n"
      ]
    },
    {
      "cell_type": "code",
      "metadata": {
        "id": "EjnC_79E7fCF",
        "colab": {
          "base_uri": "https://localhost:8080/"
        },
        "outputId": "245e6f3f-de4d-485b-b41c-28d2d4460119"
      },
      "source": [
        "# Create a new list to store words with their parts of speech (POS).\n",
        "pos_words = nltk.pos_tag(lemmed_words)\n",
        "\n",
        "# Print parts of speech for a sample of words.\n",
        "print(pos_words[2000:2010])"
      ],
      "execution_count": 22,
      "outputs": [
        {
          "output_type": "stream",
          "name": "stdout",
          "text": [
            "[('stood', 'VBD'), ('beside', 'JJ'), ('mur', 'NN'), ('dak', 'NN'), ('still', 'RB'), ('half', 'DT'), ('dazed', 'JJ'), ('unexpectedness', 'JJ'), ('thing', 'NN'), ('chairman', 'NN')]\n"
          ]
        }
      ]
    },
    {
      "cell_type": "code",
      "metadata": {
        "id": "_gUmDOZbANef",
        "colab": {
          "base_uri": "https://localhost:8080/"
        },
        "outputId": "92df599d-9bb1-41b4-d84b-fd2c07e57647"
      },
      "source": [
        "# Evaluate the POS abbreviation.\n",
        "# NN, JJ, etc.\n",
        "nltk.help.upenn_tagset('JJ')"
      ],
      "execution_count": 23,
      "outputs": [
        {
          "output_type": "stream",
          "name": "stdout",
          "text": [
            "JJ: adjective or numeral, ordinal\n",
            "    third ill-mannered pre-war regrettable oiled calamitous first separable\n",
            "    ectoplasmic battery-powered participatory fourth still-to-be-named\n",
            "    multilingual multi-disciplinary ...\n"
          ]
        }
      ]
    },
    {
      "cell_type": "markdown",
      "metadata": {
        "id": "4zYuQIbe9Xmi"
      },
      "source": [
        "## Calculate the most frequent words."
      ]
    },
    {
      "cell_type": "code",
      "metadata": {
        "id": "uR3VO9B3zJyR",
        "colab": {
          "base_uri": "https://localhost:8080/",
          "height": 321
        },
        "outputId": "34bb10a5-4ee1-4754-fbcf-2dd9ab4fff40"
      },
      "source": [
        "# Creating the word frequency distribution\n",
        "freqdist = nltk.FreqDist(lemmed_words)\n",
        "\n",
        "# Plotting the word frequency distribution\n",
        "freqdist.plot(30)"
      ],
      "execution_count": 24,
      "outputs": [
        {
          "output_type": "display_data",
          "data": {
            "text/plain": [
              "<Figure size 432x288 with 1 Axes>"
            ],
            "image/png": "[encoded data removed]"
          },
          "metadata": {
            "needs_background": "light"
          }
        }
      ]
    },
    {
      "cell_type": "markdown",
      "metadata": {
        "id": "buXuVppuxxSQ"
      },
      "source": [
        "## BONUS - Write a function to perform this analysis on other books."
      ]
    },
    {
      "cell_type": "code",
      "metadata": {
        "id": "DV0ztw09x0K-"
      },
      "source": [
        "def plot_word_freq(url):\n",
        "  # Pull the HTML page.\n",
        "  r = requests.get(url)\n",
        "  # Set the correct text encoding of the HTML page.\n",
        "  r.encoding = 'utf-8'\n",
        "  # Extract the HTML from the request object.\n",
        "  html = r.text\n",
        "  # Create a BeautifulSoup object from the HTML.\n",
        "  soup = BeautifulSoup(html)\n",
        "  # Get the text out of the soup.\n",
        "  text = soup.get_text()\n",
        "  # Create a tokenizer.\n",
        "  tokenizer = nltk.tokenize.RegexpTokenizer('\\w+')\n",
        "  # Tokenize the text.\n",
        "  tokens = tokenizer.tokenize(text)\n",
        "  # Create a new list to hold the lowercased words.\n",
        "  lower_words = []\n",
        "  # Loop through the tokens and make them lower case.\n",
        "  for word in tokens:\n",
        "    lower_words.append(word.lower())\n",
        "  # Get the English stop words from NLTK.\n",
        "  stop_words = nltk.corpus.stopwords.words('english')\n",
        "  # Create a new list to hold the book without stop words.\n",
        "  filtered_words = []\n",
        "  # Append to \"filtered_words\" all words that are in \"lower_words\" but not stop words.\n",
        "  for word in lower_words:\n",
        "    if word not in stop_words:\n",
        "        filtered_words.append(word)\n",
        "  # Setup the lemmatizer.\n",
        "  lemmatizer = WordNetLemmatizer()\n",
        "  # Create a new list to hold the lemmed words.\n",
        "  lemmed_words = []\n",
        "  # Lemmatize each word and store it in our lemmed_words variable.\n",
        "  for word in filtered_words:\n",
        "    lemmed_words.append(lemmatizer.lemmatize(word))\n",
        "  # Creating the word frequency distribution\n",
        "  freqdist = nltk.FreqDist(filtered_words)\n",
        "  # Plotting the word frequency distribution\n",
        "  freqdist.plot(30)"
      ],
      "execution_count": 25,
      "outputs": []
    },
    {
      "cell_type": "code",
      "metadata": {
        "id": "wdn3-vio0LSs",
        "colab": {
          "base_uri": "https://localhost:8080/",
          "height": 321
        },
        "outputId": "339fa9dc-b943-49b2-dd4e-c2f08c313ea2"
      },
      "source": [
        "# Use the funcion to plot word count frequences for another book (\"Great Gatsby\")\n",
        "plot_word_freq('https://www.gutenberg.org/files/67702/67702-h/67702-h.htm')"
      ],
      "execution_count": 26,
      "outputs": [
        {
          "output_type": "display_data",
          "data": {
            "text/plain": [
              "<Figure size 432x288 with 1 Axes>"
            ],
            "image/png": "[encoded data removed]"
          },
          "metadata": {
            "needs_background": "light"
          }
        }
      ]
    },
    {
      "cell_type": "code",
      "metadata": {
        "id": "4n3Bg1sE0Pbr",
        "colab": {
          "base_uri": "https://localhost:8080/",
          "height": 321
        },
        "outputId": "e8759abb-86d8-4848-d051-92b65529b494"
      },
      "source": [
        "# Use the funcion to plot word count frequences for another book (\"The story of a lover\")\n",
        "plot_word_freq('https://www.gutenberg.org/files/67706/67706-h/67706-h.htm')"
      ],
      "execution_count": 27,
      "outputs": [
        {
          "output_type": "display_data",
          "data": {
            "text/plain": [
              "<Figure size 432x288 with 1 Axes>"
            ],
            "image/png": "[encoded data removed]"
          },
          "metadata": {
            "needs_background": "light"
          }
        }
      ]
    },
    {
      "cell_type": "code",
      "source": [
        "# Add another book.\n",
        "plot_word_freq('https://www.gutenberg.org/files/67703/67703-h/67703-h.htm')"
      ],
      "metadata": {
        "id": "dqzkg1BygsJy",
        "colab": {
          "base_uri": "https://localhost:8080/",
          "height": 319
        },
        "outputId": "19f06834-58de-4e9b-ec2b-6ff261f2769a"
      },
      "execution_count": 28,
      "outputs": [
        {
          "output_type": "display_data",
          "data": {
            "text/plain": [
              "<Figure size 432x288 with 1 Axes>"
            ],
            "image/png": "[encoded data removed]"
          },
          "metadata": {
            "needs_background": "light"
          }
        }
      ]
    },
    {
      "cell_type": "code",
      "source": [
        "# Add another book.\n",
        "plot_word_freq('https://www.gutenberg.org/files/67707/67707-h/67707-h.htm')"
      ],
      "metadata": {
        "id": "LIp68qgRguLn",
        "colab": {
          "base_uri": "https://localhost:8080/",
          "height": 312
        },
        "outputId": "354d246c-3337-4fd6-877f-dc669649c33b"
      },
      "execution_count": 29,
      "outputs": [
        {
          "output_type": "display_data",
          "data": {
            "text/plain": [
              "<Figure size 432x288 with 1 Axes>"
            ],
            "image/png": "[encoded data removed]"
          },
          "metadata": {
            "needs_background": "light"
          }
        }
      ]
    },
    {
      "cell_type": "markdown",
      "metadata": {
        "id": "72-Co_rjC9eX"
      },
      "source": [
        "# PART 2A - PERFORMING SENTIMENT ANALYSIS WITH NLTK/VADER"
      ]
    },
    {
      "cell_type": "code",
      "metadata": {
        "id": "aw6UrCc5DA6_",
        "colab": {
          "base_uri": "https://localhost:8080/"
        },
        "outputId": "18fd1848-7e60-4a7d-f5f6-4293006022fc"
      },
      "source": [
        "# Download the appropriate libraries/packages.\n",
        "import pandas as pd\n",
        "import seaborn as sns\n",
        "import nltk\n",
        "from nltk.sentiment.vader import SentimentIntensityAnalyzer\n",
        "nltk.download('vader_lexicon')"
      ],
      "execution_count": 30,
      "outputs": [
        {
          "output_type": "stream",
          "name": "stdout",
          "text": [
            "[nltk_data] Downloading package vader_lexicon to /root/nltk_data...\n"
          ]
        },
        {
          "output_type": "stream",
          "name": "stderr",
          "text": [
            "/usr/local/lib/python3.7/dist-packages/nltk/twitter/__init__.py:20: UserWarning: The twython library has not been installed. Some functionality from the twitter package will not be available.\n",
            "  warnings.warn(\"The twython library has not been installed. \"\n"
          ]
        },
        {
          "output_type": "execute_result",
          "data": {
            "text/plain": [
              "True"
            ]
          },
          "metadata": {},
          "execution_count": 30
        }
      ]
    },
    {
      "cell_type": "code",
      "metadata": {
        "id": "5u9nV3K-EVXz",
        "colab": {
          "base_uri": "https://localhost:8080/"
        },
        "outputId": "656f97de-e681-4ae8-e1ae-bacd5f02d691"
      },
      "source": [
        "# Test the sentiment analyzer.\n",
        "analyzer = SentimentIntensityAnalyzer()\n",
        "review = 'This was a good movie.'\n",
        "analyzer.polarity_scores(review)"
      ],
      "execution_count": 32,
      "outputs": [
        {
          "output_type": "execute_result",
          "data": {
            "text/plain": [
              "{'compound': 0.4404, 'neg': 0.0, 'neu': 0.508, 'pos': 0.492}"
            ]
          },
          "metadata": {},
          "execution_count": 32
        }
      ]
    },
    {
      "cell_type": "markdown",
      "metadata": {
        "id": "OEzYTNvHFPth"
      },
      "source": [
        "The Positive, Negative, and Neutral scores represent the proportion of text that falls in these categories. This means our sentence was rated as 49% Positive, 51% Neutral, and 0% Negative. All these should add up to 1.\n",
        "\n",
        "The compound score is computed by summing the valence scores of each word in the lexicon, adjusted according to the rules, and then normalizing to be between -1 (most extreme negative) and +1 (most extreme positive). This is the most useful metric if you want a single unidimensional measure of sentiment for a given sentence."
      ]
    },
    {
      "cell_type": "code",
      "metadata": {
        "id": "FxWxTxMhEqYH",
        "colab": {
          "base_uri": "https://localhost:8080/"
        },
        "outputId": "43aa1fd7-1a64-4df0-abd1-085953c3734e"
      },
      "source": [
        "# Test the sentiment analyzer.\n",
        "analyzer = SentimentIntensityAnalyzer()\n",
        "review = 'This was a good movie!'\n",
        "analyzer.polarity_scores(review)"
      ],
      "execution_count": 33,
      "outputs": [
        {
          "output_type": "execute_result",
          "data": {
            "text/plain": [
              "{'compound': 0.4926, 'neg': 0.0, 'neu': 0.484, 'pos': 0.516}"
            ]
          },
          "metadata": {},
          "execution_count": 33
        }
      ]
    },
    {
      "cell_type": "code",
      "metadata": {
        "id": "AKftU-8LFerf",
        "colab": {
          "base_uri": "https://localhost:8080/"
        },
        "outputId": "11e74b72-da78-4528-cb43-20894ff6c773"
      },
      "source": [
        "# Test the sentiment analyzer.\n",
        "analyzer = SentimentIntensityAnalyzer()\n",
        "review = 'This was a HORRIBLE movie!'\n",
        "analyzer.polarity_scores(review)"
      ],
      "execution_count": 34,
      "outputs": [
        {
          "output_type": "execute_result",
          "data": {
            "text/plain": [
              "{'compound': -0.6731, 'neg': 0.601, 'neu': 0.399, 'pos': 0.0}"
            ]
          },
          "metadata": {},
          "execution_count": 34
        }
      ]
    },
    {
      "cell_type": "code",
      "metadata": {
        "id": "ZGf_hx-cTx1N",
        "colab": {
          "base_uri": "https://localhost:8080/",
          "height": 206
        },
        "outputId": "e07bc036-a71b-444f-90d2-80c42ab83b80"
      },
      "source": [
        "# Read the CSV file into a dataframe.\n",
        "url = 'http://bit.ly/park-reviews'\n",
        "df_reviews = pd.read_csv(url)\n",
        "df_reviews.head()"
      ],
      "execution_count": 35,
      "outputs": [
        {
          "output_type": "execute_result",
          "data": {
            "text/plain": [
              "                                         Review_Text               Branch\n",
              "0  If you've ever been to Disneyland anywhere you...  Disneyland_HongKong\n",
              "1  Its been a while since d last time we visit HK...  Disneyland_HongKong\n",
              "2  Thanks God it wasn   t too hot or too humid wh...  Disneyland_HongKong\n",
              "3  HK Disneyland is a great compact park. Unfortu...  Disneyland_HongKong\n",
              "4  the location is not in the city, took around 1...  Disneyland_HongKong"
            ],
            "text/html": [
              "\n",
              "  <div id=\"df-f4f881a3-43e6-48e7-b3da-67eeeaa82fc3\">\n",
              "    <div class=\"colab-df-container\">\n",
              "      <div>\n",
              "<style scoped>\n",
              "    .dataframe tbody tr th:only-of-type {\n",
              "        vertical-align: middle;\n",
              "    }\n",
              "\n",
              "    .dataframe tbody tr th {\n",
              "        vertical-align: top;\n",
              "    }\n",
              "\n",
              "    .dataframe thead th {\n",
              "        text-align: right;\n",
              "    }\n",
              "</style>\n",
              "<table border=\"1\" class=\"dataframe\">\n",
              "  <thead>\n",
              "    <tr style=\"text-align: right;\">\n",
              "      <th></th>\n",
              "      <th>Review_Text</th>\n",
              "      <th>Branch</th>\n",
              "    </tr>\n",
              "  </thead>\n",
              "  <tbody>\n",
              "    <tr>\n",
              "      <th>0</th>\n",
              "      <td>If you've ever been to Disneyland anywhere you...</td>\n",
              "      <td>Disneyland_HongKong</td>\n",
              "    </tr>\n",
              "    <tr>\n",
              "      <th>1</th>\n",
              "      <td>Its been a while since d last time we visit HK...</td>\n",
              "      <td>Disneyland_HongKong</td>\n",
              "    </tr>\n",
              "    <tr>\n",
              "      <th>2</th>\n",
              "      <td>Thanks God it wasn   t too hot or too humid wh...</td>\n",
              "      <td>Disneyland_HongKong</td>\n",
              "    </tr>\n",
              "    <tr>\n",
              "      <th>3</th>\n",
              "      <td>HK Disneyland is a great compact park. Unfortu...</td>\n",
              "      <td>Disneyland_HongKong</td>\n",
              "    </tr>\n",
              "    <tr>\n",
              "      <th>4</th>\n",
              "      <td>the location is not in the city, took around 1...</td>\n",
              "      <td>Disneyland_HongKong</td>\n",
              "    </tr>\n",
              "  </tbody>\n",
              "</table>\n",
              "</div>\n",
              "      <button class=\"colab-df-convert\" onclick=\"convertToInteractive('df-f4f881a3-43e6-48e7-b3da-67eeeaa82fc3')\"\n",
              "              title=\"Convert this dataframe to an interactive table.\"\n",
              "              style=\"display:none;\">\n",
              "        \n",
              "  <svg xmlns=\"http://www.w3.org/2000/svg\" height=\"24px\"viewBox=\"0 0 24 24\"\n",
              "       width=\"24px\">\n",
              "    <path d=\"M0 0h24v24H0V0z\" fill=\"none\"/>\n",
              "    <path d=\"M18.56 5.44l.94 2.06.94-2.06 2.06-.94-2.06-.94-.94-2.06-.94 2.06-2.06.94zm-11 1L8.5 8.5l.94-2.06 2.06-.94-2.06-.94L8.5 2.5l-.94 2.06-2.06.94zm10 10l.94 2.06.94-2.06 2.06-.94-2.06-.94-.94-2.06-.94 2.06-2.06.94z\"/><path d=\"M17.41 7.96l-1.37-1.37c-.4-.4-.92-.59-1.43-.59-.52 0-1.04.2-1.43.59L10.3 9.45l-7.72 7.72c-.78.78-.78 2.05 0 2.83L4 21.41c.39.39.9.59 1.41.59.51 0 1.02-.2 1.41-.59l7.78-7.78 2.81-2.81c.8-.78.8-2.07 0-2.86zM5.41 20L4 18.59l7.72-7.72 1.47 1.35L5.41 20z\"/>\n",
              "  </svg>\n",
              "      </button>\n",
              "      \n",
              "  <style>\n",
              "    .colab-df-container {\n",
              "      display:flex;\n",
              "      flex-wrap:wrap;\n",
              "      gap: 12px;\n",
              "    }\n",
              "\n",
              "    .colab-df-convert {\n",
              "      background-color: #E8F0FE;\n",
              "      border: none;\n",
              "      border-radius: 50%;\n",
              "      cursor: pointer;\n",
              "      display: none;\n",
              "      fill: #1967D2;\n",
              "      height: 32px;\n",
              "      padding: 0 0 0 0;\n",
              "      width: 32px;\n",
              "    }\n",
              "\n",
              "    .colab-df-convert:hover {\n",
              "      background-color: #E2EBFA;\n",
              "      box-shadow: 0px 1px 2px rgba(60, 64, 67, 0.3), 0px 1px 3px 1px rgba(60, 64, 67, 0.15);\n",
              "      fill: #174EA6;\n",
              "    }\n",
              "\n",
              "    [theme=dark] .colab-df-convert {\n",
              "      background-color: #3B4455;\n",
              "      fill: #D2E3FC;\n",
              "    }\n",
              "\n",
              "    [theme=dark] .colab-df-convert:hover {\n",
              "      background-color: #434B5C;\n",
              "      box-shadow: 0px 1px 3px 1px rgba(0, 0, 0, 0.15);\n",
              "      filter: drop-shadow(0px 1px 2px rgba(0, 0, 0, 0.3));\n",
              "      fill: #FFFFFF;\n",
              "    }\n",
              "  </style>\n",
              "\n",
              "      <script>\n",
              "        const buttonEl =\n",
              "          document.querySelector('#df-f4f881a3-43e6-48e7-b3da-67eeeaa82fc3 button.colab-df-convert');\n",
              "        buttonEl.style.display =\n",
              "          google.colab.kernel.accessAllowed ? 'block' : 'none';\n",
              "\n",
              "        async function convertToInteractive(key) {\n",
              "          const element = document.querySelector('#df-f4f881a3-43e6-48e7-b3da-67eeeaa82fc3');\n",
              "          const dataTable =\n",
              "            await google.colab.kernel.invokeFunction('convertToInteractive',\n",
              "                                                     [key], {});\n",
              "          if (!dataTable) return;\n",
              "\n",
              "          const docLinkHtml = 'Like what you see? Visit the ' +\n",
              "            '<a target=\"_blank\" href=https://colab.research.google.com/notebooks/data_table.ipynb>data table notebook</a>'\n",
              "            + ' to learn more about interactive tables.';\n",
              "          element.innerHTML = '';\n",
              "          dataTable['output_type'] = 'display_data';\n",
              "          await google.colab.output.renderOutput(dataTable, element);\n",
              "          const docLink = document.createElement('div');\n",
              "          docLink.innerHTML = docLinkHtml;\n",
              "          element.appendChild(docLink);\n",
              "        }\n",
              "      </script>\n",
              "    </div>\n",
              "  </div>\n",
              "  "
            ]
          },
          "metadata": {},
          "execution_count": 35
        }
      ]
    },
    {
      "cell_type": "code",
      "metadata": {
        "id": "NGCyLzKxT-6N",
        "colab": {
          "base_uri": "https://localhost:8080/",
          "height": 206
        },
        "outputId": "a3154d3e-ed0c-44b3-9c72-54d01de8cbcb"
      },
      "source": [
        "# Generate a sentiment score for each review.\n",
        "analyzer = SentimentIntensityAnalyzer()\n",
        "df_reviews['Sentiment Scores'] = df_reviews['Review_Text'].apply(lambda review: analyzer.polarity_scores(review))\n",
        "df_reviews.head()"
      ],
      "execution_count": 22,
      "outputs": [
        {
          "output_type": "execute_result",
          "data": {
            "text/plain": [
              "                                         Review_Text               Branch  \\\n",
              "0  If you've ever been to Disneyland anywhere you...  Disneyland_HongKong   \n",
              "1  Its been a while since d last time we visit HK...  Disneyland_HongKong   \n",
              "2  Thanks God it wasn   t too hot or too humid wh...  Disneyland_HongKong   \n",
              "3  HK Disneyland is a great compact park. Unfortu...  Disneyland_HongKong   \n",
              "4  the location is not in the city, took around 1...  Disneyland_HongKong   \n",
              "\n",
              "                                    Sentiment Scores  \n",
              "0  {'neg': 0.0, 'neu': 0.887, 'pos': 0.113, 'comp...  \n",
              "1  {'neg': 0.04, 'neu': 0.73, 'pos': 0.231, 'comp...  \n",
              "2  {'neg': 0.024, 'neu': 0.742, 'pos': 0.235, 'co...  \n",
              "3  {'neg': 0.08, 'neu': 0.76, 'pos': 0.16, 'compo...  \n",
              "4  {'neg': 0.0, 'neu': 0.899, 'pos': 0.101, 'comp...  "
            ],
            "text/html": [
              "\n",
              "  <div id=\"df-ed4571e9-e647-45dd-9420-c699e0625195\">\n",
              "    <div class=\"colab-df-container\">\n",
              "      <div>\n",
              "<style scoped>\n",
              "    .dataframe tbody tr th:only-of-type {\n",
              "        vertical-align: middle;\n",
              "    }\n",
              "\n",
              "    .dataframe tbody tr th {\n",
              "        vertical-align: top;\n",
              "    }\n",
              "\n",
              "    .dataframe thead th {\n",
              "        text-align: right;\n",
              "    }\n",
              "</style>\n",
              "<table border=\"1\" class=\"dataframe\">\n",
              "  <thead>\n",
              "    <tr style=\"text-align: right;\">\n",
              "      <th></th>\n",
              "      <th>Review_Text</th>\n",
              "      <th>Branch</th>\n",
              "      <th>Sentiment Scores</th>\n",
              "    </tr>\n",
              "  </thead>\n",
              "  <tbody>\n",
              "    <tr>\n",
              "      <th>0</th>\n",
              "      <td>If you've ever been to Disneyland anywhere you...</td>\n",
              "      <td>Disneyland_HongKong</td>\n",
              "      <td>{'neg': 0.0, 'neu': 0.887, 'pos': 0.113, 'comp...</td>\n",
              "    </tr>\n",
              "    <tr>\n",
              "      <th>1</th>\n",
              "      <td>Its been a while since d last time we visit HK...</td>\n",
              "      <td>Disneyland_HongKong</td>\n",
              "      <td>{'neg': 0.04, 'neu': 0.73, 'pos': 0.231, 'comp...</td>\n",
              "    </tr>\n",
              "    <tr>\n",
              "      <th>2</th>\n",
              "      <td>Thanks God it wasn   t too hot or too humid wh...</td>\n",
              "      <td>Disneyland_HongKong</td>\n",
              "      <td>{'neg': 0.024, 'neu': 0.742, 'pos': 0.235, 'co...</td>\n",
              "    </tr>\n",
              "    <tr>\n",
              "      <th>3</th>\n",
              "      <td>HK Disneyland is a great compact park. Unfortu...</td>\n",
              "      <td>Disneyland_HongKong</td>\n",
              "      <td>{'neg': 0.08, 'neu': 0.76, 'pos': 0.16, 'compo...</td>\n",
              "    </tr>\n",
              "    <tr>\n",
              "      <th>4</th>\n",
              "      <td>the location is not in the city, took around 1...</td>\n",
              "      <td>Disneyland_HongKong</td>\n",
              "      <td>{'neg': 0.0, 'neu': 0.899, 'pos': 0.101, 'comp...</td>\n",
              "    </tr>\n",
              "  </tbody>\n",
              "</table>\n",
              "</div>\n",
              "      <button class=\"colab-df-convert\" onclick=\"convertToInteractive('df-ed4571e9-e647-45dd-9420-c699e0625195')\"\n",
              "              title=\"Convert this dataframe to an interactive table.\"\n",
              "              style=\"display:none;\">\n",
              "        \n",
              "  <svg xmlns=\"http://www.w3.org/2000/svg\" height=\"24px\"viewBox=\"0 0 24 24\"\n",
              "       width=\"24px\">\n",
              "    <path d=\"M0 0h24v24H0V0z\" fill=\"none\"/>\n",
              "    <path d=\"M18.56 5.44l.94 2.06.94-2.06 2.06-.94-2.06-.94-.94-2.06-.94 2.06-2.06.94zm-11 1L8.5 8.5l.94-2.06 2.06-.94-2.06-.94L8.5 2.5l-.94 2.06-2.06.94zm10 10l.94 2.06.94-2.06 2.06-.94-2.06-.94-.94-2.06-.94 2.06-2.06.94z\"/><path d=\"M17.41 7.96l-1.37-1.37c-.4-.4-.92-.59-1.43-.59-.52 0-1.04.2-1.43.59L10.3 9.45l-7.72 7.72c-.78.78-.78 2.05 0 2.83L4 21.41c.39.39.9.59 1.41.59.51 0 1.02-.2 1.41-.59l7.78-7.78 2.81-2.81c.8-.78.8-2.07 0-2.86zM5.41 20L4 18.59l7.72-7.72 1.47 1.35L5.41 20z\"/>\n",
              "  </svg>\n",
              "      </button>\n",
              "      \n",
              "  <style>\n",
              "    .colab-df-container {\n",
              "      display:flex;\n",
              "      flex-wrap:wrap;\n",
              "      gap: 12px;\n",
              "    }\n",
              "\n",
              "    .colab-df-convert {\n",
              "      background-color: #E8F0FE;\n",
              "      border: none;\n",
              "      border-radius: 50%;\n",
              "      cursor: pointer;\n",
              "      display: none;\n",
              "      fill: #1967D2;\n",
              "      height: 32px;\n",
              "      padding: 0 0 0 0;\n",
              "      width: 32px;\n",
              "    }\n",
              "\n",
              "    .colab-df-convert:hover {\n",
              "      background-color: #E2EBFA;\n",
              "      box-shadow: 0px 1px 2px rgba(60, 64, 67, 0.3), 0px 1px 3px 1px rgba(60, 64, 67, 0.15);\n",
              "      fill: #174EA6;\n",
              "    }\n",
              "\n",
              "    [theme=dark] .colab-df-convert {\n",
              "      background-color: #3B4455;\n",
              "      fill: #D2E3FC;\n",
              "    }\n",
              "\n",
              "    [theme=dark] .colab-df-convert:hover {\n",
              "      background-color: #434B5C;\n",
              "      box-shadow: 0px 1px 3px 1px rgba(0, 0, 0, 0.15);\n",
              "      filter: drop-shadow(0px 1px 2px rgba(0, 0, 0, 0.3));\n",
              "      fill: #FFFFFF;\n",
              "    }\n",
              "  </style>\n",
              "\n",
              "      <script>\n",
              "        const buttonEl =\n",
              "          document.querySelector('#df-ed4571e9-e647-45dd-9420-c699e0625195 button.colab-df-convert');\n",
              "        buttonEl.style.display =\n",
              "          google.colab.kernel.accessAllowed ? 'block' : 'none';\n",
              "\n",
              "        async function convertToInteractive(key) {\n",
              "          const element = document.querySelector('#df-ed4571e9-e647-45dd-9420-c699e0625195');\n",
              "          const dataTable =\n",
              "            await google.colab.kernel.invokeFunction('convertToInteractive',\n",
              "                                                     [key], {});\n",
              "          if (!dataTable) return;\n",
              "\n",
              "          const docLinkHtml = 'Like what you see? Visit the ' +\n",
              "            '<a target=\"_blank\" href=https://colab.research.google.com/notebooks/data_table.ipynb>data table notebook</a>'\n",
              "            + ' to learn more about interactive tables.';\n",
              "          element.innerHTML = '';\n",
              "          dataTable['output_type'] = 'display_data';\n",
              "          await google.colab.output.renderOutput(dataTable, element);\n",
              "          const docLink = document.createElement('div');\n",
              "          docLink.innerHTML = docLinkHtml;\n",
              "          element.appendChild(docLink);\n",
              "        }\n",
              "      </script>\n",
              "    </div>\n",
              "  </div>\n",
              "  "
            ]
          },
          "metadata": {},
          "execution_count": 22
        }
      ]
    },
    {
      "cell_type": "markdown",
      "metadata": {
        "id": "lYQzz4_pEiid"
      },
      "source": [
        "A lambda function is a small function containing a single expression. Lambda functions can also act as anonymous functions where they don’t require any name. These are very helpful when we have to perform small tasks with less code.\n"
      ]
    },
    {
      "cell_type": "code",
      "metadata": {
        "id": "3UBCnYi5XMfu",
        "colab": {
          "base_uri": "https://localhost:8080/",
          "height": 206
        },
        "outputId": "25fb979d-6943-4b20-bd9d-955ad4de7479"
      },
      "source": [
        "# Extract the compound sentiment score.\n",
        "df_reviews['Compound Score']  = df_reviews['Sentiment Scores'].apply(lambda score_dict: score_dict['compound'])\n",
        "df_reviews.head()"
      ],
      "execution_count": 23,
      "outputs": [
        {
          "output_type": "execute_result",
          "data": {
            "text/plain": [
              "                                         Review_Text               Branch  \\\n",
              "0  If you've ever been to Disneyland anywhere you...  Disneyland_HongKong   \n",
              "1  Its been a while since d last time we visit HK...  Disneyland_HongKong   \n",
              "2  Thanks God it wasn   t too hot or too humid wh...  Disneyland_HongKong   \n",
              "3  HK Disneyland is a great compact park. Unfortu...  Disneyland_HongKong   \n",
              "4  the location is not in the city, took around 1...  Disneyland_HongKong   \n",
              "\n",
              "                                    Sentiment Scores  Compound Score  \n",
              "0  {'neg': 0.0, 'neu': 0.887, 'pos': 0.113, 'comp...          0.7069  \n",
              "1  {'neg': 0.04, 'neu': 0.73, 'pos': 0.231, 'comp...          0.9901  \n",
              "2  {'neg': 0.024, 'neu': 0.742, 'pos': 0.235, 'co...          0.9920  \n",
              "3  {'neg': 0.08, 'neu': 0.76, 'pos': 0.16, 'compo...          0.8489  \n",
              "4  {'neg': 0.0, 'neu': 0.899, 'pos': 0.101, 'comp...          0.2846  "
            ],
            "text/html": [
              "\n",
              "  <div id=\"df-3d7832d4-a1de-454e-8f0e-1987f6a82fe8\">\n",
              "    <div class=\"colab-df-container\">\n",
              "      <div>\n",
              "<style scoped>\n",
              "    .dataframe tbody tr th:only-of-type {\n",
              "        vertical-align: middle;\n",
              "    }\n",
              "\n",
              "    .dataframe tbody tr th {\n",
              "        vertical-align: top;\n",
              "    }\n",
              "\n",
              "    .dataframe thead th {\n",
              "        text-align: right;\n",
              "    }\n",
              "</style>\n",
              "<table border=\"1\" class=\"dataframe\">\n",
              "  <thead>\n",
              "    <tr style=\"text-align: right;\">\n",
              "      <th></th>\n",
              "      <th>Review_Text</th>\n",
              "      <th>Branch</th>\n",
              "      <th>Sentiment Scores</th>\n",
              "      <th>Compound Score</th>\n",
              "    </tr>\n",
              "  </thead>\n",
              "  <tbody>\n",
              "    <tr>\n",
              "      <th>0</th>\n",
              "      <td>If you've ever been to Disneyland anywhere you...</td>\n",
              "      <td>Disneyland_HongKong</td>\n",
              "      <td>{'neg': 0.0, 'neu': 0.887, 'pos': 0.113, 'comp...</td>\n",
              "      <td>0.7069</td>\n",
              "    </tr>\n",
              "    <tr>\n",
              "      <th>1</th>\n",
              "      <td>Its been a while since d last time we visit HK...</td>\n",
              "      <td>Disneyland_HongKong</td>\n",
              "      <td>{'neg': 0.04, 'neu': 0.73, 'pos': 0.231, 'comp...</td>\n",
              "      <td>0.9901</td>\n",
              "    </tr>\n",
              "    <tr>\n",
              "      <th>2</th>\n",
              "      <td>Thanks God it wasn   t too hot or too humid wh...</td>\n",
              "      <td>Disneyland_HongKong</td>\n",
              "      <td>{'neg': 0.024, 'neu': 0.742, 'pos': 0.235, 'co...</td>\n",
              "      <td>0.9920</td>\n",
              "    </tr>\n",
              "    <tr>\n",
              "      <th>3</th>\n",
              "      <td>HK Disneyland is a great compact park. Unfortu...</td>\n",
              "      <td>Disneyland_HongKong</td>\n",
              "      <td>{'neg': 0.08, 'neu': 0.76, 'pos': 0.16, 'compo...</td>\n",
              "      <td>0.8489</td>\n",
              "    </tr>\n",
              "    <tr>\n",
              "      <th>4</th>\n",
              "      <td>the location is not in the city, took around 1...</td>\n",
              "      <td>Disneyland_HongKong</td>\n",
              "      <td>{'neg': 0.0, 'neu': 0.899, 'pos': 0.101, 'comp...</td>\n",
              "      <td>0.2846</td>\n",
              "    </tr>\n",
              "  </tbody>\n",
              "</table>\n",
              "</div>\n",
              "      <button class=\"colab-df-convert\" onclick=\"convertToInteractive('df-3d7832d4-a1de-454e-8f0e-1987f6a82fe8')\"\n",
              "              title=\"Convert this dataframe to an interactive table.\"\n",
              "              style=\"display:none;\">\n",
              "        \n",
              "  <svg xmlns=\"http://www.w3.org/2000/svg\" height=\"24px\"viewBox=\"0 0 24 24\"\n",
              "       width=\"24px\">\n",
              "    <path d=\"M0 0h24v24H0V0z\" fill=\"none\"/>\n",
              "    <path d=\"M18.56 5.44l.94 2.06.94-2.06 2.06-.94-2.06-.94-.94-2.06-.94 2.06-2.06.94zm-11 1L8.5 8.5l.94-2.06 2.06-.94-2.06-.94L8.5 2.5l-.94 2.06-2.06.94zm10 10l.94 2.06.94-2.06 2.06-.94-2.06-.94-.94-2.06-.94 2.06-2.06.94z\"/><path d=\"M17.41 7.96l-1.37-1.37c-.4-.4-.92-.59-1.43-.59-.52 0-1.04.2-1.43.59L10.3 9.45l-7.72 7.72c-.78.78-.78 2.05 0 2.83L4 21.41c.39.39.9.59 1.41.59.51 0 1.02-.2 1.41-.59l7.78-7.78 2.81-2.81c.8-.78.8-2.07 0-2.86zM5.41 20L4 18.59l7.72-7.72 1.47 1.35L5.41 20z\"/>\n",
              "  </svg>\n",
              "      </button>\n",
              "      \n",
              "  <style>\n",
              "    .colab-df-container {\n",
              "      display:flex;\n",
              "      flex-wrap:wrap;\n",
              "      gap: 12px;\n",
              "    }\n",
              "\n",
              "    .colab-df-convert {\n",
              "      background-color: #E8F0FE;\n",
              "      border: none;\n",
              "      border-radius: 50%;\n",
              "      cursor: pointer;\n",
              "      display: none;\n",
              "      fill: #1967D2;\n",
              "      height: 32px;\n",
              "      padding: 0 0 0 0;\n",
              "      width: 32px;\n",
              "    }\n",
              "\n",
              "    .colab-df-convert:hover {\n",
              "      background-color: #E2EBFA;\n",
              "      box-shadow: 0px 1px 2px rgba(60, 64, 67, 0.3), 0px 1px 3px 1px rgba(60, 64, 67, 0.15);\n",
              "      fill: #174EA6;\n",
              "    }\n",
              "\n",
              "    [theme=dark] .colab-df-convert {\n",
              "      background-color: #3B4455;\n",
              "      fill: #D2E3FC;\n",
              "    }\n",
              "\n",
              "    [theme=dark] .colab-df-convert:hover {\n",
              "      background-color: #434B5C;\n",
              "      box-shadow: 0px 1px 3px 1px rgba(0, 0, 0, 0.15);\n",
              "      filter: drop-shadow(0px 1px 2px rgba(0, 0, 0, 0.3));\n",
              "      fill: #FFFFFF;\n",
              "    }\n",
              "  </style>\n",
              "\n",
              "      <script>\n",
              "        const buttonEl =\n",
              "          document.querySelector('#df-3d7832d4-a1de-454e-8f0e-1987f6a82fe8 button.colab-df-convert');\n",
              "        buttonEl.style.display =\n",
              "          google.colab.kernel.accessAllowed ? 'block' : 'none';\n",
              "\n",
              "        async function convertToInteractive(key) {\n",
              "          const element = document.querySelector('#df-3d7832d4-a1de-454e-8f0e-1987f6a82fe8');\n",
              "          const dataTable =\n",
              "            await google.colab.kernel.invokeFunction('convertToInteractive',\n",
              "                                                     [key], {});\n",
              "          if (!dataTable) return;\n",
              "\n",
              "          const docLinkHtml = 'Like what you see? Visit the ' +\n",
              "            '<a target=\"_blank\" href=https://colab.research.google.com/notebooks/data_table.ipynb>data table notebook</a>'\n",
              "            + ' to learn more about interactive tables.';\n",
              "          element.innerHTML = '';\n",
              "          dataTable['output_type'] = 'display_data';\n",
              "          await google.colab.output.renderOutput(dataTable, element);\n",
              "          const docLink = document.createElement('div');\n",
              "          docLink.innerHTML = docLinkHtml;\n",
              "          element.appendChild(docLink);\n",
              "        }\n",
              "      </script>\n",
              "    </div>\n",
              "  </div>\n",
              "  "
            ]
          },
          "metadata": {},
          "execution_count": 23
        }
      ]
    },
    {
      "cell_type": "code",
      "metadata": {
        "id": "dRNVSFiA3zAn",
        "colab": {
          "base_uri": "https://localhost:8080/",
          "height": 206
        },
        "outputId": "7fca6439-670d-4e08-a58b-60703246a07b"
      },
      "source": [
        "# Generate a sentiment rating based on the compound score.\n",
        "df_reviews['Sentiment Rating'] = df_reviews['Compound Score'].apply(lambda c: 'Positive' if c >= 0 else 'Negative')\n",
        "df_reviews.head()"
      ],
      "execution_count": 24,
      "outputs": [
        {
          "output_type": "execute_result",
          "data": {
            "text/plain": [
              "                                         Review_Text               Branch  \\\n",
              "0  If you've ever been to Disneyland anywhere you...  Disneyland_HongKong   \n",
              "1  Its been a while since d last time we visit HK...  Disneyland_HongKong   \n",
              "2  Thanks God it wasn   t too hot or too humid wh...  Disneyland_HongKong   \n",
              "3  HK Disneyland is a great compact park. Unfortu...  Disneyland_HongKong   \n",
              "4  the location is not in the city, took around 1...  Disneyland_HongKong   \n",
              "\n",
              "                                    Sentiment Scores  Compound Score  \\\n",
              "0  {'neg': 0.0, 'neu': 0.887, 'pos': 0.113, 'comp...          0.7069   \n",
              "1  {'neg': 0.04, 'neu': 0.73, 'pos': 0.231, 'comp...          0.9901   \n",
              "2  {'neg': 0.024, 'neu': 0.742, 'pos': 0.235, 'co...          0.9920   \n",
              "3  {'neg': 0.08, 'neu': 0.76, 'pos': 0.16, 'compo...          0.8489   \n",
              "4  {'neg': 0.0, 'neu': 0.899, 'pos': 0.101, 'comp...          0.2846   \n",
              "\n",
              "  Sentiment Rating  \n",
              "0         Positive  \n",
              "1         Positive  \n",
              "2         Positive  \n",
              "3         Positive  \n",
              "4         Positive  "
            ],
            "text/html": [
              "\n",
              "  <div id=\"df-91953375-6748-4052-9981-304b47cd6863\">\n",
              "    <div class=\"colab-df-container\">\n",
              "      <div>\n",
              "<style scoped>\n",
              "    .dataframe tbody tr th:only-of-type {\n",
              "        vertical-align: middle;\n",
              "    }\n",
              "\n",
              "    .dataframe tbody tr th {\n",
              "        vertical-align: top;\n",
              "    }\n",
              "\n",
              "    .dataframe thead th {\n",
              "        text-align: right;\n",
              "    }\n",
              "</style>\n",
              "<table border=\"1\" class=\"dataframe\">\n",
              "  <thead>\n",
              "    <tr style=\"text-align: right;\">\n",
              "      <th></th>\n",
              "      <th>Review_Text</th>\n",
              "      <th>Branch</th>\n",
              "      <th>Sentiment Scores</th>\n",
              "      <th>Compound Score</th>\n",
              "      <th>Sentiment Rating</th>\n",
              "    </tr>\n",
              "  </thead>\n",
              "  <tbody>\n",
              "    <tr>\n",
              "      <th>0</th>\n",
              "      <td>If you've ever been to Disneyland anywhere you...</td>\n",
              "      <td>Disneyland_HongKong</td>\n",
              "      <td>{'neg': 0.0, 'neu': 0.887, 'pos': 0.113, 'comp...</td>\n",
              "      <td>0.7069</td>\n",
              "      <td>Positive</td>\n",
              "    </tr>\n",
              "    <tr>\n",
              "      <th>1</th>\n",
              "      <td>Its been a while since d last time we visit HK...</td>\n",
              "      <td>Disneyland_HongKong</td>\n",
              "      <td>{'neg': 0.04, 'neu': 0.73, 'pos': 0.231, 'comp...</td>\n",
              "      <td>0.9901</td>\n",
              "      <td>Positive</td>\n",
              "    </tr>\n",
              "    <tr>\n",
              "      <th>2</th>\n",
              "      <td>Thanks God it wasn   t too hot or too humid wh...</td>\n",
              "      <td>Disneyland_HongKong</td>\n",
              "      <td>{'neg': 0.024, 'neu': 0.742, 'pos': 0.235, 'co...</td>\n",
              "      <td>0.9920</td>\n",
              "      <td>Positive</td>\n",
              "    </tr>\n",
              "    <tr>\n",
              "      <th>3</th>\n",
              "      <td>HK Disneyland is a great compact park. Unfortu...</td>\n",
              "      <td>Disneyland_HongKong</td>\n",
              "      <td>{'neg': 0.08, 'neu': 0.76, 'pos': 0.16, 'compo...</td>\n",
              "      <td>0.8489</td>\n",
              "      <td>Positive</td>\n",
              "    </tr>\n",
              "    <tr>\n",
              "      <th>4</th>\n",
              "      <td>the location is not in the city, took around 1...</td>\n",
              "      <td>Disneyland_HongKong</td>\n",
              "      <td>{'neg': 0.0, 'neu': 0.899, 'pos': 0.101, 'comp...</td>\n",
              "      <td>0.2846</td>\n",
              "      <td>Positive</td>\n",
              "    </tr>\n",
              "  </tbody>\n",
              "</table>\n",
              "</div>\n",
              "      <button class=\"colab-df-convert\" onclick=\"convertToInteractive('df-91953375-6748-4052-9981-304b47cd6863')\"\n",
              "              title=\"Convert this dataframe to an interactive table.\"\n",
              "              style=\"display:none;\">\n",
              "        \n",
              "  <svg xmlns=\"http://www.w3.org/2000/svg\" height=\"24px\"viewBox=\"0 0 24 24\"\n",
              "       width=\"24px\">\n",
              "    <path d=\"M0 0h24v24H0V0z\" fill=\"none\"/>\n",
              "    <path d=\"M18.56 5.44l.94 2.06.94-2.06 2.06-.94-2.06-.94-.94-2.06-.94 2.06-2.06.94zm-11 1L8.5 8.5l.94-2.06 2.06-.94-2.06-.94L8.5 2.5l-.94 2.06-2.06.94zm10 10l.94 2.06.94-2.06 2.06-.94-2.06-.94-.94-2.06-.94 2.06-2.06.94z\"/><path d=\"M17.41 7.96l-1.37-1.37c-.4-.4-.92-.59-1.43-.59-.52 0-1.04.2-1.43.59L10.3 9.45l-7.72 7.72c-.78.78-.78 2.05 0 2.83L4 21.41c.39.39.9.59 1.41.59.51 0 1.02-.2 1.41-.59l7.78-7.78 2.81-2.81c.8-.78.8-2.07 0-2.86zM5.41 20L4 18.59l7.72-7.72 1.47 1.35L5.41 20z\"/>\n",
              "  </svg>\n",
              "      </button>\n",
              "      \n",
              "  <style>\n",
              "    .colab-df-container {\n",
              "      display:flex;\n",
              "      flex-wrap:wrap;\n",
              "      gap: 12px;\n",
              "    }\n",
              "\n",
              "    .colab-df-convert {\n",
              "      background-color: #E8F0FE;\n",
              "      border: none;\n",
              "      border-radius: 50%;\n",
              "      cursor: pointer;\n",
              "      display: none;\n",
              "      fill: #1967D2;\n",
              "      height: 32px;\n",
              "      padding: 0 0 0 0;\n",
              "      width: 32px;\n",
              "    }\n",
              "\n",
              "    .colab-df-convert:hover {\n",
              "      background-color: #E2EBFA;\n",
              "      box-shadow: 0px 1px 2px rgba(60, 64, 67, 0.3), 0px 1px 3px 1px rgba(60, 64, 67, 0.15);\n",
              "      fill: #174EA6;\n",
              "    }\n",
              "\n",
              "    [theme=dark] .colab-df-convert {\n",
              "      background-color: #3B4455;\n",
              "      fill: #D2E3FC;\n",
              "    }\n",
              "\n",
              "    [theme=dark] .colab-df-convert:hover {\n",
              "      background-color: #434B5C;\n",
              "      box-shadow: 0px 1px 3px 1px rgba(0, 0, 0, 0.15);\n",
              "      filter: drop-shadow(0px 1px 2px rgba(0, 0, 0, 0.3));\n",
              "      fill: #FFFFFF;\n",
              "    }\n",
              "  </style>\n",
              "\n",
              "      <script>\n",
              "        const buttonEl =\n",
              "          document.querySelector('#df-91953375-6748-4052-9981-304b47cd6863 button.colab-df-convert');\n",
              "        buttonEl.style.display =\n",
              "          google.colab.kernel.accessAllowed ? 'block' : 'none';\n",
              "\n",
              "        async function convertToInteractive(key) {\n",
              "          const element = document.querySelector('#df-91953375-6748-4052-9981-304b47cd6863');\n",
              "          const dataTable =\n",
              "            await google.colab.kernel.invokeFunction('convertToInteractive',\n",
              "                                                     [key], {});\n",
              "          if (!dataTable) return;\n",
              "\n",
              "          const docLinkHtml = 'Like what you see? Visit the ' +\n",
              "            '<a target=\"_blank\" href=https://colab.research.google.com/notebooks/data_table.ipynb>data table notebook</a>'\n",
              "            + ' to learn more about interactive tables.';\n",
              "          element.innerHTML = '';\n",
              "          dataTable['output_type'] = 'display_data';\n",
              "          await google.colab.output.renderOutput(dataTable, element);\n",
              "          const docLink = document.createElement('div');\n",
              "          docLink.innerHTML = docLinkHtml;\n",
              "          element.appendChild(docLink);\n",
              "        }\n",
              "      </script>\n",
              "    </div>\n",
              "  </div>\n",
              "  "
            ]
          },
          "metadata": {},
          "execution_count": 24
        }
      ]
    },
    {
      "cell_type": "code",
      "metadata": {
        "id": "lDUOQwZdGg4t",
        "colab": {
          "base_uri": "https://localhost:8080/",
          "height": 369
        },
        "outputId": "54216473-572d-4e78-b04e-68ed96c643aa"
      },
      "source": [
        "# Plot the distribution of compound scores.\n",
        "sns.displot(data=df_reviews, x=\"Compound Score\");"
      ],
      "execution_count": 25,
      "outputs": [
        {
          "output_type": "display_data",
          "data": {
            "text/plain": [
              "<Figure size 360x360 with 1 Axes>"
            ],
            "image/png": "[encoded data removed]"
          },
          "metadata": {
            "needs_background": "light"
          }
        }
      ]
    },
    {
      "cell_type": "markdown",
      "source": [
        "# PART 2B - ADDITIONAL PRACTICE WITH VADER"
      ],
      "metadata": {
        "id": "c0mWJhuqlD2R"
      }
    },
    {
      "cell_type": "code",
      "source": [
        "# Perform sentiment analysis on the dataset below using VADER:\n",
        "# https://bit.ly/hotels_reviews\n",
        "# Read the CSV file into a dataframe.\n",
        "url = 'https://bit.ly/hotels_reviews'\n",
        "df_reviews1 = pd.read_csv(url)\n",
        "df_reviews1.head()\n",
        "#just use the HONKONG disney code and change link and field name"
      ],
      "metadata": {
        "id": "zHf51M1PlGZ9",
        "colab": {
          "base_uri": "https://localhost:8080/",
          "height": 206
        },
        "outputId": "380a688b-eb5b-43d5-b4ec-9ee5fe659f74"
      },
      "execution_count": 36,
      "outputs": [
        {
          "output_type": "execute_result",
          "data": {
            "text/plain": [
              "                                        hotel_review\n",
              "0  Pleasant 10 min walk along the sea front to th...\n",
              "1  Really lovely hotel. Stayed on the very top fl...\n",
              "2  We stayed here for four nights in October. The...\n",
              "3  We loved staying on the island of Lido! You ne...\n",
              "4  Lovely view out onto the lagoon. Excellent vie..."
            ],
            "text/html": [
              "\n",
              "  <div id=\"df-cd742c5f-064e-402e-9084-240e89a546df\">\n",
              "    <div class=\"colab-df-container\">\n",
              "      <div>\n",
              "<style scoped>\n",
              "    .dataframe tbody tr th:only-of-type {\n",
              "        vertical-align: middle;\n",
              "    }\n",
              "\n",
              "    .dataframe tbody tr th {\n",
              "        vertical-align: top;\n",
              "    }\n",
              "\n",
              "    .dataframe thead th {\n",
              "        text-align: right;\n",
              "    }\n",
              "</style>\n",
              "<table border=\"1\" class=\"dataframe\">\n",
              "  <thead>\n",
              "    <tr style=\"text-align: right;\">\n",
              "      <th></th>\n",
              "      <th>hotel_review</th>\n",
              "    </tr>\n",
              "  </thead>\n",
              "  <tbody>\n",
              "    <tr>\n",
              "      <th>0</th>\n",
              "      <td>Pleasant 10 min walk along the sea front to th...</td>\n",
              "    </tr>\n",
              "    <tr>\n",
              "      <th>1</th>\n",
              "      <td>Really lovely hotel. Stayed on the very top fl...</td>\n",
              "    </tr>\n",
              "    <tr>\n",
              "      <th>2</th>\n",
              "      <td>We stayed here for four nights in October. The...</td>\n",
              "    </tr>\n",
              "    <tr>\n",
              "      <th>3</th>\n",
              "      <td>We loved staying on the island of Lido! You ne...</td>\n",
              "    </tr>\n",
              "    <tr>\n",
              "      <th>4</th>\n",
              "      <td>Lovely view out onto the lagoon. Excellent vie...</td>\n",
              "    </tr>\n",
              "  </tbody>\n",
              "</table>\n",
              "</div>\n",
              "      <button class=\"colab-df-convert\" onclick=\"convertToInteractive('df-cd742c5f-064e-402e-9084-240e89a546df')\"\n",
              "              title=\"Convert this dataframe to an interactive table.\"\n",
              "              style=\"display:none;\">\n",
              "        \n",
              "  <svg xmlns=\"http://www.w3.org/2000/svg\" height=\"24px\"viewBox=\"0 0 24 24\"\n",
              "       width=\"24px\">\n",
              "    <path d=\"M0 0h24v24H0V0z\" fill=\"none\"/>\n",
              "    <path d=\"M18.56 5.44l.94 2.06.94-2.06 2.06-.94-2.06-.94-.94-2.06-.94 2.06-2.06.94zm-11 1L8.5 8.5l.94-2.06 2.06-.94-2.06-.94L8.5 2.5l-.94 2.06-2.06.94zm10 10l.94 2.06.94-2.06 2.06-.94-2.06-.94-.94-2.06-.94 2.06-2.06.94z\"/><path d=\"M17.41 7.96l-1.37-1.37c-.4-.4-.92-.59-1.43-.59-.52 0-1.04.2-1.43.59L10.3 9.45l-7.72 7.72c-.78.78-.78 2.05 0 2.83L4 21.41c.39.39.9.59 1.41.59.51 0 1.02-.2 1.41-.59l7.78-7.78 2.81-2.81c.8-.78.8-2.07 0-2.86zM5.41 20L4 18.59l7.72-7.72 1.47 1.35L5.41 20z\"/>\n",
              "  </svg>\n",
              "      </button>\n",
              "      \n",
              "  <style>\n",
              "    .colab-df-container {\n",
              "      display:flex;\n",
              "      flex-wrap:wrap;\n",
              "      gap: 12px;\n",
              "    }\n",
              "\n",
              "    .colab-df-convert {\n",
              "      background-color: #E8F0FE;\n",
              "      border: none;\n",
              "      border-radius: 50%;\n",
              "      cursor: pointer;\n",
              "      display: none;\n",
              "      fill: #1967D2;\n",
              "      height: 32px;\n",
              "      padding: 0 0 0 0;\n",
              "      width: 32px;\n",
              "    }\n",
              "\n",
              "    .colab-df-convert:hover {\n",
              "      background-color: #E2EBFA;\n",
              "      box-shadow: 0px 1px 2px rgba(60, 64, 67, 0.3), 0px 1px 3px 1px rgba(60, 64, 67, 0.15);\n",
              "      fill: #174EA6;\n",
              "    }\n",
              "\n",
              "    [theme=dark] .colab-df-convert {\n",
              "      background-color: #3B4455;\n",
              "      fill: #D2E3FC;\n",
              "    }\n",
              "\n",
              "    [theme=dark] .colab-df-convert:hover {\n",
              "      background-color: #434B5C;\n",
              "      box-shadow: 0px 1px 3px 1px rgba(0, 0, 0, 0.15);\n",
              "      filter: drop-shadow(0px 1px 2px rgba(0, 0, 0, 0.3));\n",
              "      fill: #FFFFFF;\n",
              "    }\n",
              "  </style>\n",
              "\n",
              "      <script>\n",
              "        const buttonEl =\n",
              "          document.querySelector('#df-cd742c5f-064e-402e-9084-240e89a546df button.colab-df-convert');\n",
              "        buttonEl.style.display =\n",
              "          google.colab.kernel.accessAllowed ? 'block' : 'none';\n",
              "\n",
              "        async function convertToInteractive(key) {\n",
              "          const element = document.querySelector('#df-cd742c5f-064e-402e-9084-240e89a546df');\n",
              "          const dataTable =\n",
              "            await google.colab.kernel.invokeFunction('convertToInteractive',\n",
              "                                                     [key], {});\n",
              "          if (!dataTable) return;\n",
              "\n",
              "          const docLinkHtml = 'Like what you see? Visit the ' +\n",
              "            '<a target=\"_blank\" href=https://colab.research.google.com/notebooks/data_table.ipynb>data table notebook</a>'\n",
              "            + ' to learn more about interactive tables.';\n",
              "          element.innerHTML = '';\n",
              "          dataTable['output_type'] = 'display_data';\n",
              "          await google.colab.output.renderOutput(dataTable, element);\n",
              "          const docLink = document.createElement('div');\n",
              "          docLink.innerHTML = docLinkHtml;\n",
              "          element.appendChild(docLink);\n",
              "        }\n",
              "      </script>\n",
              "    </div>\n",
              "  </div>\n",
              "  "
            ]
          },
          "metadata": {},
          "execution_count": 36
        }
      ]
    },
    {
      "cell_type": "code",
      "source": [
        "# Generate a sentiment score for each review.\n",
        "analyzer = SentimentIntensityAnalyzer()\n",
        "df_reviews1['Sentiment Scores'] = df_reviews1['hotel_review'].apply(lambda review: analyzer.polarity_scores(review))\n",
        "df_reviews1.head()"
      ],
      "metadata": {
        "colab": {
          "base_uri": "https://localhost:8080/",
          "height": 206
        },
        "id": "z0_keTTrgs3b",
        "outputId": "b2f617bc-818c-4385-8f8f-5b98af3e4062"
      },
      "execution_count": 38,
      "outputs": [
        {
          "output_type": "execute_result",
          "data": {
            "text/plain": [
              "                                        hotel_review  \\\n",
              "0  Pleasant 10 min walk along the sea front to th...   \n",
              "1  Really lovely hotel. Stayed on the very top fl...   \n",
              "2  We stayed here for four nights in October. The...   \n",
              "3  We loved staying on the island of Lido! You ne...   \n",
              "4  Lovely view out onto the lagoon. Excellent vie...   \n",
              "\n",
              "                                    Sentiment Scores  \n",
              "0  {'neg': 0.052, 'neu': 0.695, 'pos': 0.252, 'co...  \n",
              "1  {'neg': 0.019, 'neu': 0.5, 'pos': 0.481, 'comp...  \n",
              "2  {'neg': 0.0, 'neu': 0.711, 'pos': 0.289, 'comp...  \n",
              "3  {'neg': 0.0, 'neu': 0.691, 'pos': 0.309, 'comp...  \n",
              "4  {'neg': 0.0, 'neu': 0.405, 'pos': 0.595, 'comp...  "
            ],
            "text/html": [
              "\n",
              "  <div id=\"df-1723f966-ae6e-42de-bc51-7aedce1ee733\">\n",
              "    <div class=\"colab-df-container\">\n",
              "      <div>\n",
              "<style scoped>\n",
              "    .dataframe tbody tr th:only-of-type {\n",
              "        vertical-align: middle;\n",
              "    }\n",
              "\n",
              "    .dataframe tbody tr th {\n",
              "        vertical-align: top;\n",
              "    }\n",
              "\n",
              "    .dataframe thead th {\n",
              "        text-align: right;\n",
              "    }\n",
              "</style>\n",
              "<table border=\"1\" class=\"dataframe\">\n",
              "  <thead>\n",
              "    <tr style=\"text-align: right;\">\n",
              "      <th></th>\n",
              "      <th>hotel_review</th>\n",
              "      <th>Sentiment Scores</th>\n",
              "    </tr>\n",
              "  </thead>\n",
              "  <tbody>\n",
              "    <tr>\n",
              "      <th>0</th>\n",
              "      <td>Pleasant 10 min walk along the sea front to th...</td>\n",
              "      <td>{'neg': 0.052, 'neu': 0.695, 'pos': 0.252, 'co...</td>\n",
              "    </tr>\n",
              "    <tr>\n",
              "      <th>1</th>\n",
              "      <td>Really lovely hotel. Stayed on the very top fl...</td>\n",
              "      <td>{'neg': 0.019, 'neu': 0.5, 'pos': 0.481, 'comp...</td>\n",
              "    </tr>\n",
              "    <tr>\n",
              "      <th>2</th>\n",
              "      <td>We stayed here for four nights in October. The...</td>\n",
              "      <td>{'neg': 0.0, 'neu': 0.711, 'pos': 0.289, 'comp...</td>\n",
              "    </tr>\n",
              "    <tr>\n",
              "      <th>3</th>\n",
              "      <td>We loved staying on the island of Lido! You ne...</td>\n",
              "      <td>{'neg': 0.0, 'neu': 0.691, 'pos': 0.309, 'comp...</td>\n",
              "    </tr>\n",
              "    <tr>\n",
              "      <th>4</th>\n",
              "      <td>Lovely view out onto the lagoon. Excellent vie...</td>\n",
              "      <td>{'neg': 0.0, 'neu': 0.405, 'pos': 0.595, 'comp...</td>\n",
              "    </tr>\n",
              "  </tbody>\n",
              "</table>\n",
              "</div>\n",
              "      <button class=\"colab-df-convert\" onclick=\"convertToInteractive('df-1723f966-ae6e-42de-bc51-7aedce1ee733')\"\n",
              "              title=\"Convert this dataframe to an interactive table.\"\n",
              "              style=\"display:none;\">\n",
              "        \n",
              "  <svg xmlns=\"http://www.w3.org/2000/svg\" height=\"24px\"viewBox=\"0 0 24 24\"\n",
              "       width=\"24px\">\n",
              "    <path d=\"M0 0h24v24H0V0z\" fill=\"none\"/>\n",
              "    <path d=\"M18.56 5.44l.94 2.06.94-2.06 2.06-.94-2.06-.94-.94-2.06-.94 2.06-2.06.94zm-11 1L8.5 8.5l.94-2.06 2.06-.94-2.06-.94L8.5 2.5l-.94 2.06-2.06.94zm10 10l.94 2.06.94-2.06 2.06-.94-2.06-.94-.94-2.06-.94 2.06-2.06.94z\"/><path d=\"M17.41 7.96l-1.37-1.37c-.4-.4-.92-.59-1.43-.59-.52 0-1.04.2-1.43.59L10.3 9.45l-7.72 7.72c-.78.78-.78 2.05 0 2.83L4 21.41c.39.39.9.59 1.41.59.51 0 1.02-.2 1.41-.59l7.78-7.78 2.81-2.81c.8-.78.8-2.07 0-2.86zM5.41 20L4 18.59l7.72-7.72 1.47 1.35L5.41 20z\"/>\n",
              "  </svg>\n",
              "      </button>\n",
              "      \n",
              "  <style>\n",
              "    .colab-df-container {\n",
              "      display:flex;\n",
              "      flex-wrap:wrap;\n",
              "      gap: 12px;\n",
              "    }\n",
              "\n",
              "    .colab-df-convert {\n",
              "      background-color: #E8F0FE;\n",
              "      border: none;\n",
              "      border-radius: 50%;\n",
              "      cursor: pointer;\n",
              "      display: none;\n",
              "      fill: #1967D2;\n",
              "      height: 32px;\n",
              "      padding: 0 0 0 0;\n",
              "      width: 32px;\n",
              "    }\n",
              "\n",
              "    .colab-df-convert:hover {\n",
              "      background-color: #E2EBFA;\n",
              "      box-shadow: 0px 1px 2px rgba(60, 64, 67, 0.3), 0px 1px 3px 1px rgba(60, 64, 67, 0.15);\n",
              "      fill: #174EA6;\n",
              "    }\n",
              "\n",
              "    [theme=dark] .colab-df-convert {\n",
              "      background-color: #3B4455;\n",
              "      fill: #D2E3FC;\n",
              "    }\n",
              "\n",
              "    [theme=dark] .colab-df-convert:hover {\n",
              "      background-color: #434B5C;\n",
              "      box-shadow: 0px 1px 3px 1px rgba(0, 0, 0, 0.15);\n",
              "      filter: drop-shadow(0px 1px 2px rgba(0, 0, 0, 0.3));\n",
              "      fill: #FFFFFF;\n",
              "    }\n",
              "  </style>\n",
              "\n",
              "      <script>\n",
              "        const buttonEl =\n",
              "          document.querySelector('#df-1723f966-ae6e-42de-bc51-7aedce1ee733 button.colab-df-convert');\n",
              "        buttonEl.style.display =\n",
              "          google.colab.kernel.accessAllowed ? 'block' : 'none';\n",
              "\n",
              "        async function convertToInteractive(key) {\n",
              "          const element = document.querySelector('#df-1723f966-ae6e-42de-bc51-7aedce1ee733');\n",
              "          const dataTable =\n",
              "            await google.colab.kernel.invokeFunction('convertToInteractive',\n",
              "                                                     [key], {});\n",
              "          if (!dataTable) return;\n",
              "\n",
              "          const docLinkHtml = 'Like what you see? Visit the ' +\n",
              "            '<a target=\"_blank\" href=https://colab.research.google.com/notebooks/data_table.ipynb>data table notebook</a>'\n",
              "            + ' to learn more about interactive tables.';\n",
              "          element.innerHTML = '';\n",
              "          dataTable['output_type'] = 'display_data';\n",
              "          await google.colab.output.renderOutput(dataTable, element);\n",
              "          const docLink = document.createElement('div');\n",
              "          docLink.innerHTML = docLinkHtml;\n",
              "          element.appendChild(docLink);\n",
              "        }\n",
              "      </script>\n",
              "    </div>\n",
              "  </div>\n",
              "  "
            ]
          },
          "metadata": {},
          "execution_count": 38
        }
      ]
    },
    {
      "cell_type": "code",
      "source": [
        "# Extract the compound sentiment score.\n",
        "df_reviews1['Compound Score']  = df_reviews1['Sentiment Scores'].apply(lambda score_dict: score_dict['compound'])\n",
        "df_reviews1.head()"
      ],
      "metadata": {
        "colab": {
          "base_uri": "https://localhost:8080/",
          "height": 206
        },
        "id": "wltFE-fSg2Hm",
        "outputId": "8e31a549-b485-49f3-afcf-9c3f0d685d3a"
      },
      "execution_count": 39,
      "outputs": [
        {
          "output_type": "execute_result",
          "data": {
            "text/plain": [
              "                                        hotel_review  \\\n",
              "0  Pleasant 10 min walk along the sea front to th...   \n",
              "1  Really lovely hotel. Stayed on the very top fl...   \n",
              "2  We stayed here for four nights in October. The...   \n",
              "3  We loved staying on the island of Lido! You ne...   \n",
              "4  Lovely view out onto the lagoon. Excellent vie...   \n",
              "\n",
              "                                    Sentiment Scores  Compound Score  \n",
              "0  {'neg': 0.052, 'neu': 0.695, 'pos': 0.252, 'co...          0.8299  \n",
              "1  {'neg': 0.019, 'neu': 0.5, 'pos': 0.481, 'comp...          0.9828  \n",
              "2  {'neg': 0.0, 'neu': 0.711, 'pos': 0.289, 'comp...          0.9643  \n",
              "3  {'neg': 0.0, 'neu': 0.691, 'pos': 0.309, 'comp...          0.9779  \n",
              "4  {'neg': 0.0, 'neu': 0.405, 'pos': 0.595, 'comp...          0.9217  "
            ],
            "text/html": [
              "\n",
              "  <div id=\"df-6a4ff2c3-da10-47f8-9fc6-cba7595e0181\">\n",
              "    <div class=\"colab-df-container\">\n",
              "      <div>\n",
              "<style scoped>\n",
              "    .dataframe tbody tr th:only-of-type {\n",
              "        vertical-align: middle;\n",
              "    }\n",
              "\n",
              "    .dataframe tbody tr th {\n",
              "        vertical-align: top;\n",
              "    }\n",
              "\n",
              "    .dataframe thead th {\n",
              "        text-align: right;\n",
              "    }\n",
              "</style>\n",
              "<table border=\"1\" class=\"dataframe\">\n",
              "  <thead>\n",
              "    <tr style=\"text-align: right;\">\n",
              "      <th></th>\n",
              "      <th>hotel_review</th>\n",
              "      <th>Sentiment Scores</th>\n",
              "      <th>Compound Score</th>\n",
              "    </tr>\n",
              "  </thead>\n",
              "  <tbody>\n",
              "    <tr>\n",
              "      <th>0</th>\n",
              "      <td>Pleasant 10 min walk along the sea front to th...</td>\n",
              "      <td>{'neg': 0.052, 'neu': 0.695, 'pos': 0.252, 'co...</td>\n",
              "      <td>0.8299</td>\n",
              "    </tr>\n",
              "    <tr>\n",
              "      <th>1</th>\n",
              "      <td>Really lovely hotel. Stayed on the very top fl...</td>\n",
              "      <td>{'neg': 0.019, 'neu': 0.5, 'pos': 0.481, 'comp...</td>\n",
              "      <td>0.9828</td>\n",
              "    </tr>\n",
              "    <tr>\n",
              "      <th>2</th>\n",
              "      <td>We stayed here for four nights in October. The...</td>\n",
              "      <td>{'neg': 0.0, 'neu': 0.711, 'pos': 0.289, 'comp...</td>\n",
              "      <td>0.9643</td>\n",
              "    </tr>\n",
              "    <tr>\n",
              "      <th>3</th>\n",
              "      <td>We loved staying on the island of Lido! You ne...</td>\n",
              "      <td>{'neg': 0.0, 'neu': 0.691, 'pos': 0.309, 'comp...</td>\n",
              "      <td>0.9779</td>\n",
              "    </tr>\n",
              "    <tr>\n",
              "      <th>4</th>\n",
              "      <td>Lovely view out onto the lagoon. Excellent vie...</td>\n",
              "      <td>{'neg': 0.0, 'neu': 0.405, 'pos': 0.595, 'comp...</td>\n",
              "      <td>0.9217</td>\n",
              "    </tr>\n",
              "  </tbody>\n",
              "</table>\n",
              "</div>\n",
              "      <button class=\"colab-df-convert\" onclick=\"convertToInteractive('df-6a4ff2c3-da10-47f8-9fc6-cba7595e0181')\"\n",
              "              title=\"Convert this dataframe to an interactive table.\"\n",
              "              style=\"display:none;\">\n",
              "        \n",
              "  <svg xmlns=\"http://www.w3.org/2000/svg\" height=\"24px\"viewBox=\"0 0 24 24\"\n",
              "       width=\"24px\">\n",
              "    <path d=\"M0 0h24v24H0V0z\" fill=\"none\"/>\n",
              "    <path d=\"M18.56 5.44l.94 2.06.94-2.06 2.06-.94-2.06-.94-.94-2.06-.94 2.06-2.06.94zm-11 1L8.5 8.5l.94-2.06 2.06-.94-2.06-.94L8.5 2.5l-.94 2.06-2.06.94zm10 10l.94 2.06.94-2.06 2.06-.94-2.06-.94-.94-2.06-.94 2.06-2.06.94z\"/><path d=\"M17.41 7.96l-1.37-1.37c-.4-.4-.92-.59-1.43-.59-.52 0-1.04.2-1.43.59L10.3 9.45l-7.72 7.72c-.78.78-.78 2.05 0 2.83L4 21.41c.39.39.9.59 1.41.59.51 0 1.02-.2 1.41-.59l7.78-7.78 2.81-2.81c.8-.78.8-2.07 0-2.86zM5.41 20L4 18.59l7.72-7.72 1.47 1.35L5.41 20z\"/>\n",
              "  </svg>\n",
              "      </button>\n",
              "      \n",
              "  <style>\n",
              "    .colab-df-container {\n",
              "      display:flex;\n",
              "      flex-wrap:wrap;\n",
              "      gap: 12px;\n",
              "    }\n",
              "\n",
              "    .colab-df-convert {\n",
              "      background-color: #E8F0FE;\n",
              "      border: none;\n",
              "      border-radius: 50%;\n",
              "      cursor: pointer;\n",
              "      display: none;\n",
              "      fill: #1967D2;\n",
              "      height: 32px;\n",
              "      padding: 0 0 0 0;\n",
              "      width: 32px;\n",
              "    }\n",
              "\n",
              "    .colab-df-convert:hover {\n",
              "      background-color: #E2EBFA;\n",
              "      box-shadow: 0px 1px 2px rgba(60, 64, 67, 0.3), 0px 1px 3px 1px rgba(60, 64, 67, 0.15);\n",
              "      fill: #174EA6;\n",
              "    }\n",
              "\n",
              "    [theme=dark] .colab-df-convert {\n",
              "      background-color: #3B4455;\n",
              "      fill: #D2E3FC;\n",
              "    }\n",
              "\n",
              "    [theme=dark] .colab-df-convert:hover {\n",
              "      background-color: #434B5C;\n",
              "      box-shadow: 0px 1px 3px 1px rgba(0, 0, 0, 0.15);\n",
              "      filter: drop-shadow(0px 1px 2px rgba(0, 0, 0, 0.3));\n",
              "      fill: #FFFFFF;\n",
              "    }\n",
              "  </style>\n",
              "\n",
              "      <script>\n",
              "        const buttonEl =\n",
              "          document.querySelector('#df-6a4ff2c3-da10-47f8-9fc6-cba7595e0181 button.colab-df-convert');\n",
              "        buttonEl.style.display =\n",
              "          google.colab.kernel.accessAllowed ? 'block' : 'none';\n",
              "\n",
              "        async function convertToInteractive(key) {\n",
              "          const element = document.querySelector('#df-6a4ff2c3-da10-47f8-9fc6-cba7595e0181');\n",
              "          const dataTable =\n",
              "            await google.colab.kernel.invokeFunction('convertToInteractive',\n",
              "                                                     [key], {});\n",
              "          if (!dataTable) return;\n",
              "\n",
              "          const docLinkHtml = 'Like what you see? Visit the ' +\n",
              "            '<a target=\"_blank\" href=https://colab.research.google.com/notebooks/data_table.ipynb>data table notebook</a>'\n",
              "            + ' to learn more about interactive tables.';\n",
              "          element.innerHTML = '';\n",
              "          dataTable['output_type'] = 'display_data';\n",
              "          await google.colab.output.renderOutput(dataTable, element);\n",
              "          const docLink = document.createElement('div');\n",
              "          docLink.innerHTML = docLinkHtml;\n",
              "          element.appendChild(docLink);\n",
              "        }\n",
              "      </script>\n",
              "    </div>\n",
              "  </div>\n",
              "  "
            ]
          },
          "metadata": {},
          "execution_count": 39
        }
      ]
    },
    {
      "cell_type": "code",
      "source": [
        "# Generate a sentiment rating based on the compound score.\n",
        "df_reviews1['Sentiment Rating'] = df_reviews1['Compound Score'].apply(lambda c: 'Positive' if c >= 0 else 'Negative')\n",
        "df_reviews1.head()"
      ],
      "metadata": {
        "colab": {
          "base_uri": "https://localhost:8080/",
          "height": 206
        },
        "id": "OwMo6lB0hFSI",
        "outputId": "02a5d36d-0edc-4b1d-f4d3-ce56cb646711"
      },
      "execution_count": 40,
      "outputs": [
        {
          "output_type": "execute_result",
          "data": {
            "text/plain": [
              "                                        hotel_review  \\\n",
              "0  Pleasant 10 min walk along the sea front to th...   \n",
              "1  Really lovely hotel. Stayed on the very top fl...   \n",
              "2  We stayed here for four nights in October. The...   \n",
              "3  We loved staying on the island of Lido! You ne...   \n",
              "4  Lovely view out onto the lagoon. Excellent vie...   \n",
              "\n",
              "                                    Sentiment Scores  Compound Score  \\\n",
              "0  {'neg': 0.052, 'neu': 0.695, 'pos': 0.252, 'co...          0.8299   \n",
              "1  {'neg': 0.019, 'neu': 0.5, 'pos': 0.481, 'comp...          0.9828   \n",
              "2  {'neg': 0.0, 'neu': 0.711, 'pos': 0.289, 'comp...          0.9643   \n",
              "3  {'neg': 0.0, 'neu': 0.691, 'pos': 0.309, 'comp...          0.9779   \n",
              "4  {'neg': 0.0, 'neu': 0.405, 'pos': 0.595, 'comp...          0.9217   \n",
              "\n",
              "  Sentiment Rating  \n",
              "0         Positive  \n",
              "1         Positive  \n",
              "2         Positive  \n",
              "3         Positive  \n",
              "4         Positive  "
            ],
            "text/html": [
              "\n",
              "  <div id=\"df-4eba0415-360e-4852-9f6d-5b45b6884782\">\n",
              "    <div class=\"colab-df-container\">\n",
              "      <div>\n",
              "<style scoped>\n",
              "    .dataframe tbody tr th:only-of-type {\n",
              "        vertical-align: middle;\n",
              "    }\n",
              "\n",
              "    .dataframe tbody tr th {\n",
              "        vertical-align: top;\n",
              "    }\n",
              "\n",
              "    .dataframe thead th {\n",
              "        text-align: right;\n",
              "    }\n",
              "</style>\n",
              "<table border=\"1\" class=\"dataframe\">\n",
              "  <thead>\n",
              "    <tr style=\"text-align: right;\">\n",
              "      <th></th>\n",
              "      <th>hotel_review</th>\n",
              "      <th>Sentiment Scores</th>\n",
              "      <th>Compound Score</th>\n",
              "      <th>Sentiment Rating</th>\n",
              "    </tr>\n",
              "  </thead>\n",
              "  <tbody>\n",
              "    <tr>\n",
              "      <th>0</th>\n",
              "      <td>Pleasant 10 min walk along the sea front to th...</td>\n",
              "      <td>{'neg': 0.052, 'neu': 0.695, 'pos': 0.252, 'co...</td>\n",
              "      <td>0.8299</td>\n",
              "      <td>Positive</td>\n",
              "    </tr>\n",
              "    <tr>\n",
              "      <th>1</th>\n",
              "      <td>Really lovely hotel. Stayed on the very top fl...</td>\n",
              "      <td>{'neg': 0.019, 'neu': 0.5, 'pos': 0.481, 'comp...</td>\n",
              "      <td>0.9828</td>\n",
              "      <td>Positive</td>\n",
              "    </tr>\n",
              "    <tr>\n",
              "      <th>2</th>\n",
              "      <td>We stayed here for four nights in October. The...</td>\n",
              "      <td>{'neg': 0.0, 'neu': 0.711, 'pos': 0.289, 'comp...</td>\n",
              "      <td>0.9643</td>\n",
              "      <td>Positive</td>\n",
              "    </tr>\n",
              "    <tr>\n",
              "      <th>3</th>\n",
              "      <td>We loved staying on the island of Lido! You ne...</td>\n",
              "      <td>{'neg': 0.0, 'neu': 0.691, 'pos': 0.309, 'comp...</td>\n",
              "      <td>0.9779</td>\n",
              "      <td>Positive</td>\n",
              "    </tr>\n",
              "    <tr>\n",
              "      <th>4</th>\n",
              "      <td>Lovely view out onto the lagoon. Excellent vie...</td>\n",
              "      <td>{'neg': 0.0, 'neu': 0.405, 'pos': 0.595, 'comp...</td>\n",
              "      <td>0.9217</td>\n",
              "      <td>Positive</td>\n",
              "    </tr>\n",
              "  </tbody>\n",
              "</table>\n",
              "</div>\n",
              "      <button class=\"colab-df-convert\" onclick=\"convertToInteractive('df-4eba0415-360e-4852-9f6d-5b45b6884782')\"\n",
              "              title=\"Convert this dataframe to an interactive table.\"\n",
              "              style=\"display:none;\">\n",
              "        \n",
              "  <svg xmlns=\"http://www.w3.org/2000/svg\" height=\"24px\"viewBox=\"0 0 24 24\"\n",
              "       width=\"24px\">\n",
              "    <path d=\"M0 0h24v24H0V0z\" fill=\"none\"/>\n",
              "    <path d=\"M18.56 5.44l.94 2.06.94-2.06 2.06-.94-2.06-.94-.94-2.06-.94 2.06-2.06.94zm-11 1L8.5 8.5l.94-2.06 2.06-.94-2.06-.94L8.5 2.5l-.94 2.06-2.06.94zm10 10l.94 2.06.94-2.06 2.06-.94-2.06-.94-.94-2.06-.94 2.06-2.06.94z\"/><path d=\"M17.41 7.96l-1.37-1.37c-.4-.4-.92-.59-1.43-.59-.52 0-1.04.2-1.43.59L10.3 9.45l-7.72 7.72c-.78.78-.78 2.05 0 2.83L4 21.41c.39.39.9.59 1.41.59.51 0 1.02-.2 1.41-.59l7.78-7.78 2.81-2.81c.8-.78.8-2.07 0-2.86zM5.41 20L4 18.59l7.72-7.72 1.47 1.35L5.41 20z\"/>\n",
              "  </svg>\n",
              "      </button>\n",
              "      \n",
              "  <style>\n",
              "    .colab-df-container {\n",
              "      display:flex;\n",
              "      flex-wrap:wrap;\n",
              "      gap: 12px;\n",
              "    }\n",
              "\n",
              "    .colab-df-convert {\n",
              "      background-color: #E8F0FE;\n",
              "      border: none;\n",
              "      border-radius: 50%;\n",
              "      cursor: pointer;\n",
              "      display: none;\n",
              "      fill: #1967D2;\n",
              "      height: 32px;\n",
              "      padding: 0 0 0 0;\n",
              "      width: 32px;\n",
              "    }\n",
              "\n",
              "    .colab-df-convert:hover {\n",
              "      background-color: #E2EBFA;\n",
              "      box-shadow: 0px 1px 2px rgba(60, 64, 67, 0.3), 0px 1px 3px 1px rgba(60, 64, 67, 0.15);\n",
              "      fill: #174EA6;\n",
              "    }\n",
              "\n",
              "    [theme=dark] .colab-df-convert {\n",
              "      background-color: #3B4455;\n",
              "      fill: #D2E3FC;\n",
              "    }\n",
              "\n",
              "    [theme=dark] .colab-df-convert:hover {\n",
              "      background-color: #434B5C;\n",
              "      box-shadow: 0px 1px 3px 1px rgba(0, 0, 0, 0.15);\n",
              "      filter: drop-shadow(0px 1px 2px rgba(0, 0, 0, 0.3));\n",
              "      fill: #FFFFFF;\n",
              "    }\n",
              "  </style>\n",
              "\n",
              "      <script>\n",
              "        const buttonEl =\n",
              "          document.querySelector('#df-4eba0415-360e-4852-9f6d-5b45b6884782 button.colab-df-convert');\n",
              "        buttonEl.style.display =\n",
              "          google.colab.kernel.accessAllowed ? 'block' : 'none';\n",
              "\n",
              "        async function convertToInteractive(key) {\n",
              "          const element = document.querySelector('#df-4eba0415-360e-4852-9f6d-5b45b6884782');\n",
              "          const dataTable =\n",
              "            await google.colab.kernel.invokeFunction('convertToInteractive',\n",
              "                                                     [key], {});\n",
              "          if (!dataTable) return;\n",
              "\n",
              "          const docLinkHtml = 'Like what you see? Visit the ' +\n",
              "            '<a target=\"_blank\" href=https://colab.research.google.com/notebooks/data_table.ipynb>data table notebook</a>'\n",
              "            + ' to learn more about interactive tables.';\n",
              "          element.innerHTML = '';\n",
              "          dataTable['output_type'] = 'display_data';\n",
              "          await google.colab.output.renderOutput(dataTable, element);\n",
              "          const docLink = document.createElement('div');\n",
              "          docLink.innerHTML = docLinkHtml;\n",
              "          element.appendChild(docLink);\n",
              "        }\n",
              "      </script>\n",
              "    </div>\n",
              "  </div>\n",
              "  "
            ]
          },
          "metadata": {},
          "execution_count": 40
        }
      ]
    },
    {
      "cell_type": "code",
      "source": [
        "# Plot the distribution of compound scores.\n",
        "sns.displot(data=df_reviews1, x=\"Compound Score\");"
      ],
      "metadata": {
        "colab": {
          "base_uri": "https://localhost:8080/",
          "height": 369
        },
        "id": "LEy0QkNshO17",
        "outputId": "8aa1f1e0-b2e7-40b5-f15a-d351d6220d10"
      },
      "execution_count": 41,
      "outputs": [
        {
          "output_type": "display_data",
          "data": {
            "text/plain": [
              "<Figure size 360x360 with 1 Axes>"
            ],
            "image/png": "[encoded data removed]"
          },
          "metadata": {
            "needs_background": "light"
          }
        }
      ]
    },
    {
      "cell_type": "code",
      "source": [
        ""
      ],
      "metadata": {
        "id": "5NbgWHrohWYN"
      },
      "execution_count": null,
      "outputs": []
    }
  ]
}